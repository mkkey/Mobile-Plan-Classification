{
 "cells": [
  {
   "cell_type": "markdown",
   "metadata": {},
   "source": [
    "# Recommending Mobile Plans: A Machine Learning Approach for Megaline\n",
    "\n",
    "by Mikhail Karepov\n",
    "\n",
    "Megaline, a mobile carrier, wants to help subscribers transition from legacy plans to newer ones: **Smart** or **Ultra**. This project builds a classification model that learns from user behavior — such as number of calls, minutes used, messages sent, and data consumption — to predict which plan is a better fit for each customer.\n",
    "\n",
    "The goal is to develop the most accurate model (at least **75%** accuracy) to support Megaline’s marketing strategy and improve user experience by offering personalized plan recommendations.\n",
    "\n",
    "Using Python and scikit-learn, we’ll evaluate several machine learning algorithms and compare their performance."
   ]
  },
  {
   "cell_type": "markdown",
   "metadata": {},
   "source": [
    "**Table of contents**<a id='toc0_'></a>    \n",
    "- 1. [Initialization](#toc1_)    \n",
    "- 2. [Load Data](#toc2_)    \n",
    "- 3. [Prepare the Data](#toc3_)    \n",
    "  - 3.1. [General Info](#toc3_1_)    \n",
    "    - 3.1.1. [Duplicates](#toc3_1_1_)    \n",
    "- 4. [Modeling](#toc4_)    \n",
    "  - 4.1. [Split the Data](#toc4_1_)    \n",
    "  - 4.2. [Train Models](#toc4_2_)    \n",
    "  - 4.3. [Evaluate Accuracy](#toc4_3_)    \n",
    "- 5. [Test the Best Model](#toc5_)    \n",
    "- 6. [Sanity Check](#toc6_)    \n",
    "- 7. [Conclusion](#toc7_)    \n",
    "\n",
    "<!-- vscode-jupyter-toc-config\n",
    "\tnumbering=true\n",
    "\tanchor=true\n",
    "\tflat=false\n",
    "\tminLevel=3\n",
    "\tmaxLevel=6\n",
    "\t/vscode-jupyter-toc-config -->\n",
    "<!-- THIS CELL WILL BE REPLACED ON TOC UPDATE. DO NOT WRITE YOUR TEXT IN THIS CELL -->"
   ]
  },
  {
   "cell_type": "markdown",
   "metadata": {},
   "source": [
    "### 1. <a id='toc1_'></a>[Initialization](#toc0_)"
   ]
  },
  {
   "cell_type": "code",
   "execution_count": 46,
   "metadata": {},
   "outputs": [],
   "source": [
    "import pandas as pd\n",
    "import numpy as np\n",
    "\n",
    "from sklearn.model_selection import train_test_split\n",
    "from sklearn.linear_model import LogisticRegression\n",
    "from sklearn.tree import DecisionTreeClassifier\n",
    "from sklearn.ensemble import RandomForestClassifier\n",
    "from sklearn.metrics import accuracy_score"
   ]
  },
  {
   "cell_type": "markdown",
   "metadata": {},
   "source": [
    "### 2. <a id='toc2_'></a>[Load Data](#toc0_)"
   ]
  },
  {
   "cell_type": "markdown",
   "metadata": {},
   "source": [
    "The dataset contains monthly behavior data for Megaline's subscribers, including:\n",
    "\n",
    "- Number of calls (`calls`)\n",
    "- Total call duration in minutes (`minutes`)\n",
    "- Number of text messages (`messages`)\n",
    "- Internet traffic used in MB (`mb_used`)\n",
    "- Current plan (`is_ultra`):  \n",
    "  - `1` = Ultra  \n",
    "  - `0` = Smart"
   ]
  },
  {
   "cell_type": "code",
   "execution_count": 47,
   "metadata": {
    "scrolled": false
   },
   "outputs": [
    {
     "data": {
      "text/html": [
       "<div>\n",
       "<style scoped>\n",
       "    .dataframe tbody tr th:only-of-type {\n",
       "        vertical-align: middle;\n",
       "    }\n",
       "\n",
       "    .dataframe tbody tr th {\n",
       "        vertical-align: top;\n",
       "    }\n",
       "\n",
       "    .dataframe thead th {\n",
       "        text-align: right;\n",
       "    }\n",
       "</style>\n",
       "<table border=\"1\" class=\"dataframe\">\n",
       "  <thead>\n",
       "    <tr style=\"text-align: right;\">\n",
       "      <th></th>\n",
       "      <th>calls</th>\n",
       "      <th>minutes</th>\n",
       "      <th>messages</th>\n",
       "      <th>mb_used</th>\n",
       "      <th>is_ultra</th>\n",
       "    </tr>\n",
       "  </thead>\n",
       "  <tbody>\n",
       "    <tr>\n",
       "      <th>0</th>\n",
       "      <td>40.0</td>\n",
       "      <td>311.90</td>\n",
       "      <td>83.0</td>\n",
       "      <td>19915.42</td>\n",
       "      <td>0</td>\n",
       "    </tr>\n",
       "    <tr>\n",
       "      <th>1</th>\n",
       "      <td>85.0</td>\n",
       "      <td>516.75</td>\n",
       "      <td>56.0</td>\n",
       "      <td>22696.96</td>\n",
       "      <td>0</td>\n",
       "    </tr>\n",
       "    <tr>\n",
       "      <th>2</th>\n",
       "      <td>77.0</td>\n",
       "      <td>467.66</td>\n",
       "      <td>86.0</td>\n",
       "      <td>21060.45</td>\n",
       "      <td>0</td>\n",
       "    </tr>\n",
       "    <tr>\n",
       "      <th>3</th>\n",
       "      <td>106.0</td>\n",
       "      <td>745.53</td>\n",
       "      <td>81.0</td>\n",
       "      <td>8437.39</td>\n",
       "      <td>1</td>\n",
       "    </tr>\n",
       "    <tr>\n",
       "      <th>4</th>\n",
       "      <td>66.0</td>\n",
       "      <td>418.74</td>\n",
       "      <td>1.0</td>\n",
       "      <td>14502.75</td>\n",
       "      <td>0</td>\n",
       "    </tr>\n",
       "  </tbody>\n",
       "</table>\n",
       "</div>"
      ],
      "text/plain": [
       "   calls  minutes  messages   mb_used  is_ultra\n",
       "0   40.0   311.90      83.0  19915.42         0\n",
       "1   85.0   516.75      56.0  22696.96         0\n",
       "2   77.0   467.66      86.0  21060.45         0\n",
       "3  106.0   745.53      81.0   8437.39         1\n",
       "4   66.0   418.74       1.0  14502.75         0"
      ]
     },
     "metadata": {},
     "output_type": "display_data"
    },
    {
     "name": "stdout",
     "output_type": "stream",
     "text": [
      "\n",
      "<class 'pandas.core.frame.DataFrame'>\n",
      "RangeIndex: 3214 entries, 0 to 3213\n",
      "Data columns (total 5 columns):\n",
      " #   Column    Non-Null Count  Dtype  \n",
      "---  ------    --------------  -----  \n",
      " 0   calls     3214 non-null   float64\n",
      " 1   minutes   3214 non-null   float64\n",
      " 2   messages  3214 non-null   float64\n",
      " 3   mb_used   3214 non-null   float64\n",
      " 4   is_ultra  3214 non-null   int64  \n",
      "dtypes: float64(4), int64(1)\n",
      "memory usage: 125.7 KB\n"
     ]
    },
    {
     "data": {
      "text/plain": [
       "None"
      ]
     },
     "metadata": {},
     "output_type": "display_data"
    },
    {
     "name": "stdout",
     "output_type": "stream",
     "text": [
      "\n"
     ]
    },
    {
     "data": {
      "text/html": [
       "<div>\n",
       "<style scoped>\n",
       "    .dataframe tbody tr th:only-of-type {\n",
       "        vertical-align: middle;\n",
       "    }\n",
       "\n",
       "    .dataframe tbody tr th {\n",
       "        vertical-align: top;\n",
       "    }\n",
       "\n",
       "    .dataframe thead th {\n",
       "        text-align: right;\n",
       "    }\n",
       "</style>\n",
       "<table border=\"1\" class=\"dataframe\">\n",
       "  <thead>\n",
       "    <tr style=\"text-align: right;\">\n",
       "      <th></th>\n",
       "      <th>calls</th>\n",
       "      <th>minutes</th>\n",
       "      <th>messages</th>\n",
       "      <th>mb_used</th>\n",
       "      <th>is_ultra</th>\n",
       "    </tr>\n",
       "  </thead>\n",
       "  <tbody>\n",
       "    <tr>\n",
       "      <th>count</th>\n",
       "      <td>3214.000000</td>\n",
       "      <td>3214.000000</td>\n",
       "      <td>3214.000000</td>\n",
       "      <td>3214.000000</td>\n",
       "      <td>3214.000000</td>\n",
       "    </tr>\n",
       "    <tr>\n",
       "      <th>mean</th>\n",
       "      <td>63.038892</td>\n",
       "      <td>438.208787</td>\n",
       "      <td>38.281269</td>\n",
       "      <td>17207.673836</td>\n",
       "      <td>0.306472</td>\n",
       "    </tr>\n",
       "    <tr>\n",
       "      <th>std</th>\n",
       "      <td>33.236368</td>\n",
       "      <td>234.569872</td>\n",
       "      <td>36.148326</td>\n",
       "      <td>7570.968246</td>\n",
       "      <td>0.461100</td>\n",
       "    </tr>\n",
       "    <tr>\n",
       "      <th>min</th>\n",
       "      <td>0.000000</td>\n",
       "      <td>0.000000</td>\n",
       "      <td>0.000000</td>\n",
       "      <td>0.000000</td>\n",
       "      <td>0.000000</td>\n",
       "    </tr>\n",
       "    <tr>\n",
       "      <th>25%</th>\n",
       "      <td>40.000000</td>\n",
       "      <td>274.575000</td>\n",
       "      <td>9.000000</td>\n",
       "      <td>12491.902500</td>\n",
       "      <td>0.000000</td>\n",
       "    </tr>\n",
       "    <tr>\n",
       "      <th>50%</th>\n",
       "      <td>62.000000</td>\n",
       "      <td>430.600000</td>\n",
       "      <td>30.000000</td>\n",
       "      <td>16943.235000</td>\n",
       "      <td>0.000000</td>\n",
       "    </tr>\n",
       "    <tr>\n",
       "      <th>75%</th>\n",
       "      <td>82.000000</td>\n",
       "      <td>571.927500</td>\n",
       "      <td>57.000000</td>\n",
       "      <td>21424.700000</td>\n",
       "      <td>1.000000</td>\n",
       "    </tr>\n",
       "    <tr>\n",
       "      <th>max</th>\n",
       "      <td>244.000000</td>\n",
       "      <td>1632.060000</td>\n",
       "      <td>224.000000</td>\n",
       "      <td>49745.730000</td>\n",
       "      <td>1.000000</td>\n",
       "    </tr>\n",
       "  </tbody>\n",
       "</table>\n",
       "</div>"
      ],
      "text/plain": [
       "             calls      minutes     messages       mb_used     is_ultra\n",
       "count  3214.000000  3214.000000  3214.000000   3214.000000  3214.000000\n",
       "mean     63.038892   438.208787    38.281269  17207.673836     0.306472\n",
       "std      33.236368   234.569872    36.148326   7570.968246     0.461100\n",
       "min       0.000000     0.000000     0.000000      0.000000     0.000000\n",
       "25%      40.000000   274.575000     9.000000  12491.902500     0.000000\n",
       "50%      62.000000   430.600000    30.000000  16943.235000     0.000000\n",
       "75%      82.000000   571.927500    57.000000  21424.700000     1.000000\n",
       "max     244.000000  1632.060000   224.000000  49745.730000     1.000000"
      ]
     },
     "metadata": {},
     "output_type": "display_data"
    },
    {
     "name": "stdout",
     "output_type": "stream",
     "text": [
      "\n"
     ]
    },
    {
     "data": {
      "text/html": [
       "<div>\n",
       "<style scoped>\n",
       "    .dataframe tbody tr th:only-of-type {\n",
       "        vertical-align: middle;\n",
       "    }\n",
       "\n",
       "    .dataframe tbody tr th {\n",
       "        vertical-align: top;\n",
       "    }\n",
       "\n",
       "    .dataframe thead th {\n",
       "        text-align: right;\n",
       "    }\n",
       "</style>\n",
       "<table border=\"1\" class=\"dataframe\">\n",
       "  <thead>\n",
       "    <tr style=\"text-align: right;\">\n",
       "      <th></th>\n",
       "      <th>calls</th>\n",
       "      <th>minutes</th>\n",
       "      <th>messages</th>\n",
       "      <th>mb_used</th>\n",
       "      <th>is_ultra</th>\n",
       "    </tr>\n",
       "  </thead>\n",
       "  <tbody>\n",
       "    <tr>\n",
       "      <th>1974</th>\n",
       "      <td>102.0</td>\n",
       "      <td>747.02</td>\n",
       "      <td>0.0</td>\n",
       "      <td>20964.21</td>\n",
       "      <td>0</td>\n",
       "    </tr>\n",
       "    <tr>\n",
       "      <th>2966</th>\n",
       "      <td>128.0</td>\n",
       "      <td>869.07</td>\n",
       "      <td>0.0</td>\n",
       "      <td>21723.95</td>\n",
       "      <td>1</td>\n",
       "    </tr>\n",
       "    <tr>\n",
       "      <th>811</th>\n",
       "      <td>36.0</td>\n",
       "      <td>322.57</td>\n",
       "      <td>41.0</td>\n",
       "      <td>12259.44</td>\n",
       "      <td>0</td>\n",
       "    </tr>\n",
       "    <tr>\n",
       "      <th>906</th>\n",
       "      <td>49.0</td>\n",
       "      <td>291.00</td>\n",
       "      <td>73.0</td>\n",
       "      <td>15791.45</td>\n",
       "      <td>0</td>\n",
       "    </tr>\n",
       "    <tr>\n",
       "      <th>2123</th>\n",
       "      <td>34.0</td>\n",
       "      <td>252.87</td>\n",
       "      <td>26.0</td>\n",
       "      <td>24550.06</td>\n",
       "      <td>1</td>\n",
       "    </tr>\n",
       "    <tr>\n",
       "      <th>959</th>\n",
       "      <td>48.0</td>\n",
       "      <td>341.80</td>\n",
       "      <td>53.0</td>\n",
       "      <td>5910.35</td>\n",
       "      <td>1</td>\n",
       "    </tr>\n",
       "    <tr>\n",
       "      <th>252</th>\n",
       "      <td>50.0</td>\n",
       "      <td>308.48</td>\n",
       "      <td>51.0</td>\n",
       "      <td>21387.26</td>\n",
       "      <td>0</td>\n",
       "    </tr>\n",
       "    <tr>\n",
       "      <th>2157</th>\n",
       "      <td>68.0</td>\n",
       "      <td>399.32</td>\n",
       "      <td>0.0</td>\n",
       "      <td>10204.48</td>\n",
       "      <td>0</td>\n",
       "    </tr>\n",
       "    <tr>\n",
       "      <th>1878</th>\n",
       "      <td>156.0</td>\n",
       "      <td>1044.13</td>\n",
       "      <td>149.0</td>\n",
       "      <td>26649.18</td>\n",
       "      <td>1</td>\n",
       "    </tr>\n",
       "    <tr>\n",
       "      <th>739</th>\n",
       "      <td>36.0</td>\n",
       "      <td>314.67</td>\n",
       "      <td>16.0</td>\n",
       "      <td>16476.83</td>\n",
       "      <td>0</td>\n",
       "    </tr>\n",
       "  </tbody>\n",
       "</table>\n",
       "</div>"
      ],
      "text/plain": [
       "      calls  minutes  messages   mb_used  is_ultra\n",
       "1974  102.0   747.02       0.0  20964.21         0\n",
       "2966  128.0   869.07       0.0  21723.95         1\n",
       "811    36.0   322.57      41.0  12259.44         0\n",
       "906    49.0   291.00      73.0  15791.45         0\n",
       "2123   34.0   252.87      26.0  24550.06         1\n",
       "959    48.0   341.80      53.0   5910.35         1\n",
       "252    50.0   308.48      51.0  21387.26         0\n",
       "2157   68.0   399.32       0.0  10204.48         0\n",
       "1878  156.0  1044.13     149.0  26649.18         1\n",
       "739    36.0   314.67      16.0  16476.83         0"
      ]
     },
     "metadata": {},
     "output_type": "display_data"
    },
    {
     "name": "stdout",
     "output_type": "stream",
     "text": [
      "\n"
     ]
    },
    {
     "data": {
      "text/html": [
       "<div>\n",
       "<style scoped>\n",
       "    .dataframe tbody tr th:only-of-type {\n",
       "        vertical-align: middle;\n",
       "    }\n",
       "\n",
       "    .dataframe tbody tr th {\n",
       "        vertical-align: top;\n",
       "    }\n",
       "\n",
       "    .dataframe thead th {\n",
       "        text-align: right;\n",
       "    }\n",
       "</style>\n",
       "<table border=\"1\" class=\"dataframe\">\n",
       "  <thead>\n",
       "    <tr style=\"text-align: right;\">\n",
       "      <th></th>\n",
       "      <th>calls</th>\n",
       "      <th>minutes</th>\n",
       "      <th>messages</th>\n",
       "      <th>mb_used</th>\n",
       "      <th>is_ultra</th>\n",
       "    </tr>\n",
       "  </thead>\n",
       "  <tbody>\n",
       "    <tr>\n",
       "      <th>calls</th>\n",
       "      <td>1.000000</td>\n",
       "      <td>0.982083</td>\n",
       "      <td>0.177385</td>\n",
       "      <td>0.286442</td>\n",
       "      <td>0.207122</td>\n",
       "    </tr>\n",
       "    <tr>\n",
       "      <th>minutes</th>\n",
       "      <td>0.982083</td>\n",
       "      <td>1.000000</td>\n",
       "      <td>0.173110</td>\n",
       "      <td>0.280967</td>\n",
       "      <td>0.206955</td>\n",
       "    </tr>\n",
       "    <tr>\n",
       "      <th>messages</th>\n",
       "      <td>0.177385</td>\n",
       "      <td>0.173110</td>\n",
       "      <td>1.000000</td>\n",
       "      <td>0.195721</td>\n",
       "      <td>0.203830</td>\n",
       "    </tr>\n",
       "    <tr>\n",
       "      <th>mb_used</th>\n",
       "      <td>0.286442</td>\n",
       "      <td>0.280967</td>\n",
       "      <td>0.195721</td>\n",
       "      <td>1.000000</td>\n",
       "      <td>0.198568</td>\n",
       "    </tr>\n",
       "    <tr>\n",
       "      <th>is_ultra</th>\n",
       "      <td>0.207122</td>\n",
       "      <td>0.206955</td>\n",
       "      <td>0.203830</td>\n",
       "      <td>0.198568</td>\n",
       "      <td>1.000000</td>\n",
       "    </tr>\n",
       "  </tbody>\n",
       "</table>\n",
       "</div>"
      ],
      "text/plain": [
       "             calls   minutes  messages   mb_used  is_ultra\n",
       "calls     1.000000  0.982083  0.177385  0.286442  0.207122\n",
       "minutes   0.982083  1.000000  0.173110  0.280967  0.206955\n",
       "messages  0.177385  0.173110  1.000000  0.195721  0.203830\n",
       "mb_used   0.286442  0.280967  0.195721  1.000000  0.198568\n",
       "is_ultra  0.207122  0.206955  0.203830  0.198568  1.000000"
      ]
     },
     "execution_count": 47,
     "metadata": {},
     "output_type": "execute_result"
    }
   ],
   "source": [
    "df = pd.read_csv('./datasets/users_behavior.csv')\n",
    "display(df.head())\n",
    "print()\n",
    "display(df.info())\n",
    "print()\n",
    "display(df.describe())\n",
    "print()\n",
    "display(df.sample(10))\n",
    "print()\n",
    "df.corr()"
   ]
  },
  {
   "cell_type": "markdown",
   "metadata": {},
   "source": [
    "Although the number of calls and call duration is highly correlated (`r ≈ 0.98`), keeping both features resulted in slightly higher model accuracy. \n",
    "\n",
    "Random Forests can handle multicollinearity effectively, both were retained to preserve maximum predictive power."
   ]
  },
  {
   "cell_type": "markdown",
   "metadata": {},
   "source": [
    "### 3. <a id='toc3_'></a>[Prepare the Data](#toc0_)"
   ]
  },
  {
   "cell_type": "markdown",
   "metadata": {},
   "source": [
    "#### 3.1. <a id='toc3_1_'></a>[General Info](#toc0_)"
   ]
  },
  {
   "cell_type": "markdown",
   "metadata": {},
   "source": [
    "- The dataset contains **3,214 entries** and **no missing values**.\n",
    "- All columns have appropriate data types:\n",
    "  - `calls`, `minutes`, `messages`, `mb_used`: `float64`\n",
    "  - `is_ultra`: `int64`\n",
    "- The target variable `is_ultra` is binary (0 for Smart, 1 for Ultra)."
   ]
  },
  {
   "cell_type": "markdown",
   "metadata": {},
   "source": [
    "##### 3.1.1. <a id='toc3_1_1_'></a>[Duplicates](#toc0_)"
   ]
  },
  {
   "cell_type": "code",
   "execution_count": 48,
   "metadata": {},
   "outputs": [
    {
     "data": {
      "text/plain": [
       "0"
      ]
     },
     "execution_count": 48,
     "metadata": {},
     "output_type": "execute_result"
    }
   ],
   "source": [
    "df.duplicated().sum()"
   ]
  },
  {
   "cell_type": "markdown",
   "metadata": {},
   "source": [
    "**No duplicates** were found."
   ]
  },
  {
   "cell_type": "markdown",
   "metadata": {},
   "source": [
    "### 4. <a id='toc4_'></a>[Modeling](#toc0_)"
   ]
  },
  {
   "cell_type": "markdown",
   "metadata": {},
   "source": [
    "#### 4.1. <a id='toc4_1_'></a>[Split the Data](#toc0_)"
   ]
  },
  {
   "cell_type": "markdown",
   "metadata": {},
   "source": [
    "We split the data into **training**, **validation** and **test** sets:\n",
    "\n",
    "- 60% of the data is used for training\n",
    "- 20% is used for validation\n",
    "- 20% is used for test\n",
    "- The random seed is fixed to ensure reproducibility"
   ]
  },
  {
   "cell_type": "code",
   "execution_count": 49,
   "metadata": {},
   "outputs": [],
   "source": [
    "features = df.drop(['is_ultra'], axis=1)\n",
    "target = df['is_ultra']\n",
    "\n",
    "#Create test set (20%)\n",
    "features_temp, features_test, target_temp, target_test = train_test_split(\n",
    "    features, target, test_size=0.2, random_state=12345)\n",
    "\n",
    "#Split remaining 80% into training and validation (60% train, 20% val)\n",
    "features_train, features_valid, target_train, target_valid = train_test_split(\n",
    "    features_temp, target_temp, test_size=0.25, random_state=12345)"
   ]
  },
  {
   "cell_type": "markdown",
   "metadata": {},
   "source": [
    "#### 4.2. <a id='toc4_2_'></a>[Train Models](#toc0_)"
   ]
  },
  {
   "cell_type": "markdown",
   "metadata": {},
   "source": [
    "We trained and compared the performance of the following classification models:\n",
    "\n",
    "- **Logistic Regression** – a simple linear model often used as a baseline\n",
    "- **Decision Tree Classifier** – a model that splits the data based on feature thresholds\n",
    "- **Random Forest Classifier** – an ensemble of decision trees that improves accuracy and reduces overfitting\n",
    "\n",
    "Each model was trained on the training set and evaluated on the validation set."
   ]
  },
  {
   "cell_type": "code",
   "execution_count": 50,
   "metadata": {},
   "outputs": [],
   "source": [
    "# Logistic Regression\n",
    "lr_model = LogisticRegression(random_state=12345, solver='liblinear')\n",
    "lr_model.fit(features_train, target_train)\n",
    "lr_preds = lr_model.predict(features_valid)\n",
    "lr_accuracy = accuracy_score(target_valid, lr_preds)\n",
    "\n",
    "# Decision Tree\n",
    "tree_model = DecisionTreeClassifier(random_state=12345)\n",
    "tree_model.fit(features_train, target_train)\n",
    "tree_preds = tree_model.predict(features_valid)\n",
    "tree_accuracy = accuracy_score(target_valid, tree_preds)\n",
    "\n",
    "# Random Forest\n",
    "forest_model = RandomForestClassifier(random_state=12345)\n",
    "forest_model.fit(features_train, target_train)\n",
    "forest_preds = forest_model.predict(features_valid)\n",
    "forest_accuracy = accuracy_score(target_valid, forest_preds)"
   ]
  },
  {
   "cell_type": "code",
   "execution_count": 51,
   "metadata": {},
   "outputs": [
    {
     "name": "stdout",
     "output_type": "stream",
     "text": [
      "Logistic Regression Accuracy: 0.729\n",
      "Decision Tree Accuracy: 0.712\n",
      "Random Forest Accuracy: 0.792\n"
     ]
    }
   ],
   "source": [
    "# Display results\n",
    "print(f\"Logistic Regression Accuracy: {lr_accuracy:.3f}\")\n",
    "print(f\"Decision Tree Accuracy: {tree_accuracy:.3f}\")\n",
    "print(f\"Random Forest Accuracy: {forest_accuracy:.3f}\")"
   ]
  },
  {
   "cell_type": "markdown",
   "metadata": {},
   "source": [
    "**Decision Tree: Hyperparameter Tuning**\n",
    "\n",
    "To improve the performance of the Decision Tree model, we adjusted its `max_depth` hyperparameter, which controls how deep the tree can grow.\n",
    "\n",
    "We tested depths from **1 to 10** to find the value that gives the best balance between underfitting and overfitting.\n",
    "\n",
    "**Random Forest: Hyperparameter Tuning**\n",
    "\n",
    "Random Forest is an ensemble model that combines multiple decision trees. We tuned the number of trees (`n_estimators`) and tree depth (`max_depth`) to optimize performance.\n",
    "\n",
    "We ran experiments with:\n",
    "\n",
    "- `n_estimators`: 10 to 100 (in steps)\n",
    "- `max_depth`: 5 to 15\n",
    "\n",
    "By evaluating different combinations, we selected the configuration that gave the best accuracy on the validation set."
   ]
  },
  {
   "cell_type": "code",
   "execution_count": 52,
   "metadata": {
    "scrolled": false
   },
   "outputs": [
    {
     "name": "stdout",
     "output_type": "stream",
     "text": [
      "Decision Tree tuning results:\n",
      "Max depth = 1: Accuracy = 0.739\n",
      "Max depth = 2: Accuracy = 0.757\n",
      "Max depth = 3: Accuracy = 0.765\n",
      "Max depth = 4: Accuracy = 0.764\n",
      "Max depth = 5: Accuracy = 0.759\n",
      "Max depth = 6: Accuracy = 0.757\n",
      "Max depth = 7: Accuracy = 0.774\n",
      "Max depth = 8: Accuracy = 0.767\n",
      "Max depth = 9: Accuracy = 0.762\n",
      "Max depth = 10: Accuracy = 0.771\n",
      "Best Decision Tree model: max_depth = 7, Accuracy = 0.774\n",
      "\n",
      "Random Forest full tuning results:\n",
      "n_estimators = 10, max_depth = 5: Accuracy = 0.778\n",
      "n_estimators = 10, max_depth = 6: Accuracy = 0.785\n",
      "n_estimators = 10, max_depth = 7: Accuracy = 0.787\n",
      "n_estimators = 10, max_depth = 8: Accuracy = 0.785\n",
      "n_estimators = 10, max_depth = 9: Accuracy = 0.795\n",
      "n_estimators = 10, max_depth = 10: Accuracy = 0.790\n",
      "n_estimators = 10, max_depth = 11: Accuracy = 0.788\n",
      "n_estimators = 10, max_depth = 12: Accuracy = 0.792\n",
      "n_estimators = 10, max_depth = 13: Accuracy = 0.793\n",
      "n_estimators = 10, max_depth = 14: Accuracy = 0.788\n",
      "n_estimators = 10, max_depth = 15: Accuracy = 0.790\n",
      "n_estimators = 20, max_depth = 5: Accuracy = 0.779\n",
      "n_estimators = 20, max_depth = 6: Accuracy = 0.785\n",
      "n_estimators = 20, max_depth = 7: Accuracy = 0.785\n",
      "n_estimators = 20, max_depth = 8: Accuracy = 0.787\n",
      "n_estimators = 20, max_depth = 9: Accuracy = 0.792\n",
      "n_estimators = 20, max_depth = 10: Accuracy = 0.796\n",
      "n_estimators = 20, max_depth = 11: Accuracy = 0.792\n",
      "n_estimators = 20, max_depth = 12: Accuracy = 0.792\n",
      "n_estimators = 20, max_depth = 13: Accuracy = 0.796\n",
      "n_estimators = 20, max_depth = 14: Accuracy = 0.799\n",
      "n_estimators = 20, max_depth = 15: Accuracy = 0.802\n",
      "n_estimators = 30, max_depth = 5: Accuracy = 0.779\n",
      "n_estimators = 30, max_depth = 6: Accuracy = 0.784\n",
      "n_estimators = 30, max_depth = 7: Accuracy = 0.785\n",
      "n_estimators = 30, max_depth = 8: Accuracy = 0.784\n",
      "n_estimators = 30, max_depth = 9: Accuracy = 0.792\n",
      "n_estimators = 30, max_depth = 10: Accuracy = 0.792\n",
      "n_estimators = 30, max_depth = 11: Accuracy = 0.795\n",
      "n_estimators = 30, max_depth = 12: Accuracy = 0.788\n",
      "n_estimators = 30, max_depth = 13: Accuracy = 0.798\n",
      "n_estimators = 30, max_depth = 14: Accuracy = 0.793\n",
      "n_estimators = 30, max_depth = 15: Accuracy = 0.793\n",
      "n_estimators = 40, max_depth = 5: Accuracy = 0.781\n",
      "n_estimators = 40, max_depth = 6: Accuracy = 0.781\n",
      "n_estimators = 40, max_depth = 7: Accuracy = 0.784\n",
      "n_estimators = 40, max_depth = 8: Accuracy = 0.787\n",
      "n_estimators = 40, max_depth = 9: Accuracy = 0.790\n",
      "n_estimators = 40, max_depth = 10: Accuracy = 0.796\n",
      "n_estimators = 40, max_depth = 11: Accuracy = 0.795\n",
      "n_estimators = 40, max_depth = 12: Accuracy = 0.795\n",
      "n_estimators = 40, max_depth = 13: Accuracy = 0.795\n",
      "n_estimators = 40, max_depth = 14: Accuracy = 0.792\n",
      "n_estimators = 40, max_depth = 15: Accuracy = 0.796\n",
      "n_estimators = 50, max_depth = 5: Accuracy = 0.779\n",
      "n_estimators = 50, max_depth = 6: Accuracy = 0.781\n",
      "n_estimators = 50, max_depth = 7: Accuracy = 0.787\n",
      "n_estimators = 50, max_depth = 8: Accuracy = 0.787\n",
      "n_estimators = 50, max_depth = 9: Accuracy = 0.788\n",
      "n_estimators = 50, max_depth = 10: Accuracy = 0.798\n",
      "n_estimators = 50, max_depth = 11: Accuracy = 0.790\n",
      "n_estimators = 50, max_depth = 12: Accuracy = 0.793\n",
      "n_estimators = 50, max_depth = 13: Accuracy = 0.801\n",
      "n_estimators = 50, max_depth = 14: Accuracy = 0.792\n",
      "n_estimators = 50, max_depth = 15: Accuracy = 0.795\n",
      "n_estimators = 60, max_depth = 5: Accuracy = 0.778\n",
      "n_estimators = 60, max_depth = 6: Accuracy = 0.779\n",
      "n_estimators = 60, max_depth = 7: Accuracy = 0.787\n",
      "n_estimators = 60, max_depth = 8: Accuracy = 0.782\n",
      "n_estimators = 60, max_depth = 9: Accuracy = 0.787\n",
      "n_estimators = 60, max_depth = 10: Accuracy = 0.792\n",
      "n_estimators = 60, max_depth = 11: Accuracy = 0.792\n",
      "n_estimators = 60, max_depth = 12: Accuracy = 0.799\n",
      "n_estimators = 60, max_depth = 13: Accuracy = 0.798\n",
      "n_estimators = 60, max_depth = 14: Accuracy = 0.795\n",
      "n_estimators = 60, max_depth = 15: Accuracy = 0.799\n",
      "n_estimators = 70, max_depth = 5: Accuracy = 0.779\n",
      "n_estimators = 70, max_depth = 6: Accuracy = 0.781\n",
      "n_estimators = 70, max_depth = 7: Accuracy = 0.785\n",
      "n_estimators = 70, max_depth = 8: Accuracy = 0.784\n",
      "n_estimators = 70, max_depth = 9: Accuracy = 0.788\n",
      "n_estimators = 70, max_depth = 10: Accuracy = 0.796\n",
      "n_estimators = 70, max_depth = 11: Accuracy = 0.796\n",
      "n_estimators = 70, max_depth = 12: Accuracy = 0.799\n",
      "n_estimators = 70, max_depth = 13: Accuracy = 0.802\n",
      "n_estimators = 70, max_depth = 14: Accuracy = 0.792\n",
      "n_estimators = 70, max_depth = 15: Accuracy = 0.799\n",
      "n_estimators = 80, max_depth = 5: Accuracy = 0.781\n",
      "n_estimators = 80, max_depth = 6: Accuracy = 0.781\n",
      "n_estimators = 80, max_depth = 7: Accuracy = 0.784\n",
      "n_estimators = 80, max_depth = 8: Accuracy = 0.781\n",
      "n_estimators = 80, max_depth = 9: Accuracy = 0.788\n",
      "n_estimators = 80, max_depth = 10: Accuracy = 0.795\n",
      "n_estimators = 80, max_depth = 11: Accuracy = 0.795\n",
      "n_estimators = 80, max_depth = 12: Accuracy = 0.799\n",
      "n_estimators = 80, max_depth = 13: Accuracy = 0.802\n",
      "n_estimators = 80, max_depth = 14: Accuracy = 0.793\n",
      "n_estimators = 80, max_depth = 15: Accuracy = 0.799\n",
      "n_estimators = 90, max_depth = 5: Accuracy = 0.781\n",
      "n_estimators = 90, max_depth = 6: Accuracy = 0.779\n",
      "n_estimators = 90, max_depth = 7: Accuracy = 0.785\n",
      "n_estimators = 90, max_depth = 8: Accuracy = 0.781\n",
      "n_estimators = 90, max_depth = 9: Accuracy = 0.788\n",
      "n_estimators = 90, max_depth = 10: Accuracy = 0.793\n",
      "n_estimators = 90, max_depth = 11: Accuracy = 0.792\n",
      "n_estimators = 90, max_depth = 12: Accuracy = 0.798\n",
      "n_estimators = 90, max_depth = 13: Accuracy = 0.802\n",
      "n_estimators = 90, max_depth = 14: Accuracy = 0.795\n",
      "n_estimators = 90, max_depth = 15: Accuracy = 0.799\n",
      "n_estimators = 100, max_depth = 5: Accuracy = 0.779\n",
      "n_estimators = 100, max_depth = 6: Accuracy = 0.779\n",
      "n_estimators = 100, max_depth = 7: Accuracy = 0.785\n",
      "n_estimators = 100, max_depth = 8: Accuracy = 0.782\n",
      "n_estimators = 100, max_depth = 9: Accuracy = 0.790\n",
      "n_estimators = 100, max_depth = 10: Accuracy = 0.796\n",
      "n_estimators = 100, max_depth = 11: Accuracy = 0.798\n",
      "n_estimators = 100, max_depth = 12: Accuracy = 0.798\n",
      "n_estimators = 100, max_depth = 13: Accuracy = 0.799\n",
      "n_estimators = 100, max_depth = 14: Accuracy = 0.795\n",
      "n_estimators = 100, max_depth = 15: Accuracy = 0.799\n",
      "Best model: n_estimators = 20, max_depth = 15, Accuracy = 0.802\n"
     ]
    }
   ],
   "source": [
    "# Decision Tree tuning\n",
    "print(\"Decision Tree tuning results:\")\n",
    "\n",
    "best_tree_accuracy = 0\n",
    "best_tree_depth = None\n",
    "\n",
    "for depth in range(1, 11):\n",
    "    model = DecisionTreeClassifier(max_depth=depth, random_state=12345)\n",
    "    model.fit(features_train, target_train)\n",
    "    predictions = model.predict(features_valid)\n",
    "    accuracy = accuracy_score(target_valid, predictions)\n",
    "    print(f\"Max depth = {depth}: Accuracy = {accuracy:.3f}\")\n",
    "    \n",
    "    if accuracy > best_tree_accuracy:\n",
    "        best_tree_accuracy = accuracy\n",
    "        best_tree_depth = depth\n",
    "\n",
    "print(f\"Best Decision Tree model: max_depth = {best_tree_depth}, Accuracy = {best_tree_accuracy:.3f}\")\n",
    "print()\n",
    "# Random Forest tuning\n",
    "print(\"Random Forest full tuning results:\")\n",
    "best_forest_accuracy = 0\n",
    "best_forest_params = ()\n",
    "for est in range(10, 110, 10):           \n",
    "    for depth in range(5, 16):           \n",
    "        model = RandomForestClassifier(n_estimators=est, max_depth=depth, random_state=12345)\n",
    "        model.fit(features_train, target_train)\n",
    "        predictions = model.predict(features_valid)\n",
    "        accuracy = accuracy_score(target_valid, predictions)\n",
    "        print(f\"n_estimators = {est}, max_depth = {depth}: Accuracy = {accuracy:.3f}\")\n",
    "        \n",
    "        if accuracy > best_forest_accuracy:\n",
    "            best_forest_accuracy = accuracy\n",
    "            best_forest_params = (est, depth)\n",
    "\n",
    "print(f\"Best model: n_estimators = {best_forest_params[0]}, max_depth = {best_forest_params[1]}, Accuracy = {best_forest_accuracy:.3f}\")"
   ]
  },
  {
   "cell_type": "markdown",
   "metadata": {},
   "source": [
    "**Decision Tree: Hyperparameter Tuning**\n",
    "\n",
    "We tested depths from **1 to 10**. The best result was:\n",
    "\n",
    "- **Max depth = 7** - **Accuracy = 0.774**\n",
    "\n",
    "**Random Forest: Hyperparameter Tuning**\n",
    "\n",
    "We tuned the number of trees (`n_estimators`) and tree depth (`max_depth`) for the Random Forest model.\n",
    "\n",
    "The best result was:\n",
    "\n",
    "- **n_estimators = 20**, **max_depth = 15** - **Accuracy = 0.802**"
   ]
  },
  {
   "cell_type": "markdown",
   "metadata": {},
   "source": [
    "#### 4.3. <a id='toc4_3_'></a>[Evaluate Accuracy](#toc0_)\n",
    "\n",
    "We used accuracy score as the performance metric. Our goal was at least **75% accuracy** on the validation set.\n",
    "\n",
    "Below are the validation scores for the **best-tuned versions** of each model:\n",
    "\n",
    "- **Logistic Regression Accuracy**: `0.729`  \n",
    "- **Decision Tree Accuracy (max_depth=7)**: `0.774` \n",
    "- **Random Forest Accuracy (n_estimators=20, max_depth=15)**: `0.802`\n",
    "\n",
    "The **Random Forest model** had the highest accuracy and exceeded the target threshold. It was selected for final testing on unseen data."
   ]
  },
  {
   "cell_type": "markdown",
   "metadata": {},
   "source": [
    "### 5. <a id='toc5_'></a>[Test the Best Model](#toc0_)\n",
    "\n",
    "After tuning the models on the validation set, the **Random Forest Classifier** with `n_estimators=20` and `max_depth=15` showed the highest accuracy of **80.2%**. \n",
    "\n",
    "Now we’ll test this final model on a **completely untouched test set** (20% of the original dataset). This helps us evaluate how well the model performs on truly unseen data and confirm that it generalizes well.\n",
    "\n",
    "We proceed by:\n",
    "\n",
    "- Combining the training and validation sets\n",
    "- Training the best model on this combined data\n",
    "- Making predictions on the test set\n",
    "- Evaluating the test accuracy\n",
    "\n",
    "Our goal remains: reach at least **75% accuracy** on the test set."
   ]
  },
  {
   "cell_type": "code",
   "execution_count": 53,
   "metadata": {},
   "outputs": [
    {
     "name": "stdout",
     "output_type": "stream",
     "text": [
      "Final accuracy on test set: 0.784\n"
     ]
    }
   ],
   "source": [
    "# Combine training and validation data\n",
    "features_train_val = pd.concat([features_train, features_valid])\n",
    "target_train_val = pd.concat([target_train, target_valid])\n",
    "\n",
    "# Retrain the best model on the full training + validation data\n",
    "final_model = RandomForestClassifier(n_estimators=20, max_depth=15, random_state=12345)\n",
    "final_model.fit(features_train_val, target_train_val)\n",
    "\n",
    "# Predict on the untouched test set\n",
    "test_predictions = final_model.predict(features_test)\n",
    "\n",
    "# Evaluate performance\n",
    "test_accuracy = accuracy_score(target_test, test_predictions)\n",
    "print(f\"Final accuracy on test set: {test_accuracy:.3f}\")"
   ]
  },
  {
   "cell_type": "markdown",
   "metadata": {},
   "source": [
    "### 6. <a id='toc6_'></a>[Sanity Check](#toc0_)\n",
    "\n",
    "We perform a sanity check to make sure our model is working as expected — and not just predicting the most common class or benefiting from random chance.\n",
    "\n",
    "We’ll compare our final model’s accuracy on the test set against two checks:\n",
    "\n",
    "- **Random guesser** — simulates predicting randomly between Smart and Ultra\n",
    "- **Most frequent class** — always predicts the more common plan (e.g., Smart)\n",
    "\n",
    "If the model outperforms these checks, we can be confident that it actually learned meaningful patterns from the data."
   ]
  },
  {
   "cell_type": "code",
   "execution_count": 54,
   "metadata": {},
   "outputs": [
    {
     "name": "stdout",
     "output_type": "stream",
     "text": [
      "Check (random predictions): 0.504\n",
      "Check (most frequent class): 0.695\n",
      "Model (Random Forest) accuracy: 0.784\n"
     ]
    }
   ],
   "source": [
    "# Check 1: Random guess (0 or 1 with equal probability)\n",
    "random_preds = np.random.randint(0, 2, size=len(target_test))\n",
    "random_accuracy = accuracy_score(target_test, random_preds)\n",
    "\n",
    "# Check 2: Predict the most frequent class in the training+validation set\n",
    "most_common_class = target_train_val.mode()[0]\n",
    "constant_preds = np.full_like(target_test, most_common_class)\n",
    "constant_accuracy = accuracy_score(target_test, constant_preds)\n",
    "\n",
    "# Show results\n",
    "print(f\"Check (random predictions): {random_accuracy:.3f}\")\n",
    "print(f\"Check (most frequent class): {constant_accuracy:.3f}\")\n",
    "print(f\"Model (Random Forest) accuracy: {test_accuracy:.3f}\")"
   ]
  },
  {
   "cell_type": "markdown",
   "metadata": {},
   "source": [
    "### 7. <a id='toc7_'></a>[Conclusion](#toc0_)\n",
    "\n",
    "In this project, we built a machine learning model to recommend mobile plans (Smart or Ultra) based on user behavior.\n",
    "\n",
    "After exploring the dataset and training multiple models, we selected a **Random Forest Classifier** with `n_estimators=20` and `max_depth=15` as the final model.\n",
    "\n",
    "Here’s how it performed:\n",
    "\n",
    "- **Validation accuracy**: 80.2%\n",
    "- **Test accuracy**: 78.4%\n",
    "\n",
    "We also ran a sanity check and compared our model to two baselines:\n",
    "- Random guessing: ~50.4%\n",
    "- Most frequent class: 69.5%\n",
    "- Model: 78.4%\n",
    "\n",
    "Our model clearly outperformed both, confirming it learned meaningful patterns rather than guessing or relying on class imbalance.\n",
    "\n",
    "**Final result**: A robust classification model with >75% accuracy, ready to support Megaline in recommending personalized plans to customers."
   ]
  }
 ],
 "metadata": {
  "ExecuteTimeLog": [
   {
    "duration": 2,
    "start_time": "2025-04-12T20:18:38.832Z"
   },
   {
    "duration": 62,
    "start_time": "2025-04-12T20:18:44.937Z"
   },
   {
    "duration": 63,
    "start_time": "2025-04-12T20:18:59.332Z"
   },
   {
    "duration": 33,
    "start_time": "2025-04-12T20:19:44.172Z"
   },
   {
    "duration": 30,
    "start_time": "2025-04-12T20:20:09.077Z"
   },
   {
    "duration": 32,
    "start_time": "2025-04-12T20:20:17.415Z"
   },
   {
    "duration": 33,
    "start_time": "2025-04-12T20:20:28.707Z"
   },
   {
    "duration": 293,
    "start_time": "2025-04-12T20:21:09.741Z"
   },
   {
    "duration": 54,
    "start_time": "2025-04-12T20:21:10.036Z"
   },
   {
    "duration": 6,
    "start_time": "2025-04-12T20:33:20.661Z"
   },
   {
    "duration": 3,
    "start_time": "2025-04-12T20:43:07.876Z"
   },
   {
    "duration": 532,
    "start_time": "2025-04-12T20:43:12.603Z"
   },
   {
    "duration": 763,
    "start_time": "2025-04-12T20:43:20.968Z"
   },
   {
    "duration": 38,
    "start_time": "2025-04-12T20:43:21.733Z"
   },
   {
    "duration": 17,
    "start_time": "2025-04-12T20:43:21.773Z"
   },
   {
    "duration": 6,
    "start_time": "2025-04-12T20:44:00.823Z"
   },
   {
    "duration": 407,
    "start_time": "2025-04-12T20:49:44.498Z"
   },
   {
    "duration": 4,
    "start_time": "2025-04-12T20:50:04.567Z"
   },
   {
    "duration": 161,
    "start_time": "2025-04-13T01:00:21.347Z"
   },
   {
    "duration": 777,
    "start_time": "2025-04-13T01:00:34.005Z"
   },
   {
    "duration": 43,
    "start_time": "2025-04-13T01:00:34.783Z"
   },
   {
    "duration": 16,
    "start_time": "2025-04-13T01:00:34.828Z"
   },
   {
    "duration": 8,
    "start_time": "2025-04-13T01:00:34.848Z"
   },
   {
    "duration": 421,
    "start_time": "2025-04-13T01:00:34.858Z"
   },
   {
    "duration": 1703,
    "start_time": "2025-04-13T01:00:35.281Z"
   },
   {
    "duration": 3,
    "start_time": "2025-04-13T01:00:36.986Z"
   },
   {
    "duration": 1676,
    "start_time": "2025-04-13T01:02:56.521Z"
   },
   {
    "duration": 17655,
    "start_time": "2025-04-13T01:08:24.291Z"
   },
   {
    "duration": 17702,
    "start_time": "2025-04-13T01:09:27.159Z"
   },
   {
    "duration": 17687,
    "start_time": "2025-04-13T01:14:04.223Z"
   },
   {
    "duration": 790,
    "start_time": "2025-04-13T01:14:31.864Z"
   },
   {
    "duration": 38,
    "start_time": "2025-04-13T01:14:32.656Z"
   },
   {
    "duration": 5,
    "start_time": "2025-04-13T01:14:32.695Z"
   },
   {
    "duration": 4,
    "start_time": "2025-04-13T01:14:32.703Z"
   },
   {
    "duration": 440,
    "start_time": "2025-04-13T01:14:32.709Z"
   },
   {
    "duration": 17674,
    "start_time": "2025-04-13T01:14:33.151Z"
   },
   {
    "duration": 4,
    "start_time": "2025-04-13T01:14:50.826Z"
   },
   {
    "duration": 775,
    "start_time": "2025-04-13T01:44:21.643Z"
   },
   {
    "duration": 47,
    "start_time": "2025-04-13T01:44:22.420Z"
   },
   {
    "duration": 9,
    "start_time": "2025-04-13T01:44:22.468Z"
   },
   {
    "duration": 6,
    "start_time": "2025-04-13T01:44:22.479Z"
   },
   {
    "duration": 349,
    "start_time": "2025-04-13T01:44:22.488Z"
   },
   {
    "duration": 4,
    "start_time": "2025-04-13T01:44:22.839Z"
   },
   {
    "duration": 14871,
    "start_time": "2025-04-13T01:44:22.844Z"
   },
   {
    "duration": 82,
    "start_time": "2025-04-13T01:54:32.740Z"
   },
   {
    "duration": 86,
    "start_time": "2025-04-13T01:54:37.241Z"
   },
   {
    "duration": 778,
    "start_time": "2025-04-13T01:57:33.187Z"
   },
   {
    "duration": 40,
    "start_time": "2025-04-13T01:57:33.967Z"
   },
   {
    "duration": 8,
    "start_time": "2025-04-13T01:57:34.010Z"
   },
   {
    "duration": 30,
    "start_time": "2025-04-13T01:57:34.020Z"
   },
   {
    "duration": 340,
    "start_time": "2025-04-13T01:57:34.052Z"
   },
   {
    "duration": 4,
    "start_time": "2025-04-13T01:57:34.393Z"
   },
   {
    "duration": 14955,
    "start_time": "2025-04-13T01:57:34.398Z"
   },
   {
    "duration": 104,
    "start_time": "2025-04-13T01:57:49.354Z"
   },
   {
    "duration": 5,
    "start_time": "2025-04-13T01:58:19.292Z"
   },
   {
    "duration": 39,
    "start_time": "2025-04-13T03:44:16.268Z"
   },
   {
    "duration": 798,
    "start_time": "2025-04-13T03:44:54.151Z"
   },
   {
    "duration": 40,
    "start_time": "2025-04-13T03:44:54.951Z"
   },
   {
    "duration": 5,
    "start_time": "2025-04-13T03:44:54.992Z"
   },
   {
    "duration": 6,
    "start_time": "2025-04-13T03:44:54.999Z"
   },
   {
    "duration": 356,
    "start_time": "2025-04-13T03:44:55.007Z"
   },
   {
    "duration": 3,
    "start_time": "2025-04-13T03:44:55.365Z"
   },
   {
    "duration": 14856,
    "start_time": "2025-04-13T03:44:55.370Z"
   },
   {
    "duration": 92,
    "start_time": "2025-04-13T03:45:10.228Z"
   },
   {
    "duration": 5,
    "start_time": "2025-04-13T03:45:10.322Z"
   },
   {
    "duration": 784,
    "start_time": "2025-04-13T03:46:52.171Z"
   },
   {
    "duration": 52,
    "start_time": "2025-04-13T03:46:52.957Z"
   },
   {
    "duration": 5,
    "start_time": "2025-04-13T03:46:53.011Z"
   },
   {
    "duration": 6,
    "start_time": "2025-04-13T03:46:53.017Z"
   },
   {
    "duration": 352,
    "start_time": "2025-04-13T03:46:53.026Z"
   },
   {
    "duration": 3,
    "start_time": "2025-04-13T03:46:53.380Z"
   },
   {
    "duration": 15031,
    "start_time": "2025-04-13T03:46:53.385Z"
   },
   {
    "duration": 88,
    "start_time": "2025-04-13T03:47:08.418Z"
   },
   {
    "duration": 5,
    "start_time": "2025-04-13T03:47:08.508Z"
   },
   {
    "duration": 41,
    "start_time": "2025-04-13T03:52:24.632Z"
   },
   {
    "duration": 43,
    "start_time": "2025-04-13T03:52:32.671Z"
   },
   {
    "duration": 797,
    "start_time": "2025-04-13T03:56:21.078Z"
   },
   {
    "duration": 48,
    "start_time": "2025-04-13T03:56:21.877Z"
   },
   {
    "duration": 19,
    "start_time": "2025-04-13T03:56:21.927Z"
   },
   {
    "duration": 231,
    "start_time": "2025-04-13T03:56:21.948Z"
   },
   {
    "duration": 0,
    "start_time": "2025-04-13T03:56:22.181Z"
   },
   {
    "duration": 0,
    "start_time": "2025-04-13T03:56:22.183Z"
   },
   {
    "duration": 0,
    "start_time": "2025-04-13T03:56:22.184Z"
   },
   {
    "duration": 0,
    "start_time": "2025-04-13T03:56:22.186Z"
   },
   {
    "duration": 0,
    "start_time": "2025-04-13T03:56:22.187Z"
   },
   {
    "duration": 7,
    "start_time": "2025-04-13T03:57:04.538Z"
   },
   {
    "duration": 773,
    "start_time": "2025-04-13T03:57:11.778Z"
   },
   {
    "duration": 49,
    "start_time": "2025-04-13T03:57:12.553Z"
   },
   {
    "duration": 5,
    "start_time": "2025-04-13T03:57:12.604Z"
   },
   {
    "duration": 6,
    "start_time": "2025-04-13T03:57:12.611Z"
   },
   {
    "duration": 269,
    "start_time": "2025-04-13T03:57:12.618Z"
   },
   {
    "duration": 3,
    "start_time": "2025-04-13T03:57:12.888Z"
   },
   {
    "duration": 11150,
    "start_time": "2025-04-13T03:57:12.893Z"
   },
   {
    "duration": 58,
    "start_time": "2025-04-13T03:57:24.044Z"
   },
   {
    "duration": 5,
    "start_time": "2025-04-13T03:57:24.104Z"
   },
   {
    "duration": 756,
    "start_time": "2025-04-13T04:01:25.495Z"
   },
   {
    "duration": 47,
    "start_time": "2025-04-13T04:01:26.254Z"
   },
   {
    "duration": 6,
    "start_time": "2025-04-13T04:01:26.303Z"
   },
   {
    "duration": 33,
    "start_time": "2025-04-13T04:01:26.310Z"
   },
   {
    "duration": 240,
    "start_time": "2025-04-13T04:01:26.345Z"
   },
   {
    "duration": 4,
    "start_time": "2025-04-13T04:01:26.586Z"
   },
   {
    "duration": 10954,
    "start_time": "2025-04-13T04:01:26.591Z"
   },
   {
    "duration": 59,
    "start_time": "2025-04-13T04:01:37.546Z"
   },
   {
    "duration": 6,
    "start_time": "2025-04-13T04:01:37.607Z"
   },
   {
    "duration": 770,
    "start_time": "2025-04-13T04:06:32.302Z"
   },
   {
    "duration": 52,
    "start_time": "2025-04-13T04:06:33.074Z"
   },
   {
    "duration": 6,
    "start_time": "2025-04-13T04:06:33.142Z"
   },
   {
    "duration": 6,
    "start_time": "2025-04-13T04:06:33.151Z"
   },
   {
    "duration": 355,
    "start_time": "2025-04-13T04:06:33.159Z"
   },
   {
    "duration": 4,
    "start_time": "2025-04-13T04:06:33.517Z"
   },
   {
    "duration": 14822,
    "start_time": "2025-04-13T04:06:33.523Z"
   },
   {
    "duration": 83,
    "start_time": "2025-04-13T04:06:48.347Z"
   },
   {
    "duration": 13,
    "start_time": "2025-04-13T04:06:48.432Z"
   },
   {
    "duration": 787,
    "start_time": "2025-04-13T04:16:31.270Z"
   },
   {
    "duration": 48,
    "start_time": "2025-04-13T04:16:32.060Z"
   },
   {
    "duration": 5,
    "start_time": "2025-04-13T04:16:32.109Z"
   },
   {
    "duration": 5,
    "start_time": "2025-04-13T04:16:32.116Z"
   },
   {
    "duration": 335,
    "start_time": "2025-04-13T04:16:32.144Z"
   },
   {
    "duration": 3,
    "start_time": "2025-04-13T04:16:32.481Z"
   },
   {
    "duration": 14968,
    "start_time": "2025-04-13T04:16:32.485Z"
   },
   {
    "duration": 92,
    "start_time": "2025-04-13T04:16:47.456Z"
   },
   {
    "duration": 6,
    "start_time": "2025-04-13T04:16:47.549Z"
   },
   {
    "duration": 799,
    "start_time": "2025-04-13T06:10:26.769Z"
   },
   {
    "duration": 3,
    "start_time": "2025-04-13T06:10:44.624Z"
   },
   {
    "duration": 44,
    "start_time": "2025-04-13T06:10:44.629Z"
   },
   {
    "duration": 4,
    "start_time": "2025-04-13T06:10:44.675Z"
   },
   {
    "duration": 5,
    "start_time": "2025-04-13T06:10:44.681Z"
   },
   {
    "duration": 364,
    "start_time": "2025-04-13T06:10:44.689Z"
   },
   {
    "duration": 3,
    "start_time": "2025-04-13T06:10:45.055Z"
   },
   {
    "duration": 14995,
    "start_time": "2025-04-13T06:10:45.060Z"
   },
   {
    "duration": 92,
    "start_time": "2025-04-13T06:11:00.057Z"
   },
   {
    "duration": 5,
    "start_time": "2025-04-13T06:11:00.151Z"
   },
   {
    "duration": 3,
    "start_time": "2025-04-13T06:13:41.130Z"
   },
   {
    "duration": 47,
    "start_time": "2025-04-13T06:13:41.136Z"
   },
   {
    "duration": 5,
    "start_time": "2025-04-13T06:13:41.185Z"
   },
   {
    "duration": 7,
    "start_time": "2025-04-13T06:13:41.192Z"
   },
   {
    "duration": 357,
    "start_time": "2025-04-13T06:13:41.200Z"
   },
   {
    "duration": 3,
    "start_time": "2025-04-13T06:13:41.559Z"
   },
   {
    "duration": 15274,
    "start_time": "2025-04-13T06:13:41.564Z"
   },
   {
    "duration": 82,
    "start_time": "2025-04-13T06:13:56.840Z"
   },
   {
    "duration": 5,
    "start_time": "2025-04-13T06:13:56.931Z"
   }
  ],
  "kernelspec": {
   "display_name": "base",
   "language": "python",
   "name": "python3"
  },
  "language_info": {
   "codemirror_mode": {
    "name": "ipython",
    "version": 3
   },
   "file_extension": ".py",
   "mimetype": "text/x-python",
   "name": "python",
   "nbconvert_exporter": "python",
   "pygments_lexer": "ipython3",
   "version": "3.12.7"
  },
  "toc": {
   "base_numbering": 1,
   "nav_menu": {},
   "number_sections": true,
   "sideBar": true,
   "skip_h1_title": true,
   "title_cell": "Table of Contents",
   "title_sidebar": "Contents",
   "toc_cell": false,
   "toc_position": {
    "height": "calc(100% - 180px)",
    "left": "10px",
    "top": "150px",
    "width": "357.59375px"
   },
   "toc_section_display": true,
   "toc_window_display": false
  }
 },
 "nbformat": 4,
 "nbformat_minor": 2
}
